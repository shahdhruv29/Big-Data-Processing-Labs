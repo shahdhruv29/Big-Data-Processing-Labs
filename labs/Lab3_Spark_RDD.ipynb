{
  "nbformat": 4,
  "nbformat_minor": 0,
  "metadata": {
    "colab": {
      "provenance": [],
      "authorship_tag": "ABX9TyMhDDldk10n2pXyPNpUGhLd",
      "include_colab_link": true
    },
    "kernelspec": {
      "name": "python3",
      "display_name": "Python 3"
    },
    "language_info": {
      "name": "python"
    }
  },
  "cells": [
    {
      "cell_type": "markdown",
      "metadata": {
        "id": "view-in-github",
        "colab_type": "text"
      },
      "source": [
        "<a href=\"https://colab.research.google.com/github/shahdhruv29/Big-Data-Processing-Labs/blob/main/labs/Lab3_Spark_RDD.ipynb\" target=\"_parent\"><img src=\"https://colab.research.google.com/assets/colab-badge.svg\" alt=\"Open In Colab\"/></a>"
      ]
    },
    {
      "cell_type": "markdown",
      "source": [
        "## Lab3: Programming Spark RDD"
      ],
      "metadata": {
        "id": "eag_ozajNZGo"
      }
    },
    {
      "cell_type": "markdown",
      "source": [
        "Dhruv Shah - 202103017"
      ],
      "metadata": {
        "id": "LSkJwC2zOW7Y"
      }
    },
    {
      "cell_type": "code",
      "execution_count": null,
      "metadata": {
        "colab": {
          "base_uri": "https://localhost:8080/"
        },
        "id": "LTsAc3yzMzTc",
        "outputId": "cd6c56c1-1ff7-41af-dbca-7090075b45d8"
      },
      "outputs": [
        {
          "output_type": "stream",
          "name": "stdout",
          "text": [
            "Collecting pyspark\n",
            "  Downloading pyspark-3.5.2.tar.gz (317.3 MB)\n",
            "\u001b[2K     \u001b[90m━━━━━━━━━━━━━━━━━━━━━━━━━━━━━━━━━━━━━━━━\u001b[0m \u001b[32m317.3/317.3 MB\u001b[0m \u001b[31m4.4 MB/s\u001b[0m eta \u001b[36m0:00:00\u001b[0m\n",
            "\u001b[?25h  Preparing metadata (setup.py) ... \u001b[?25l\u001b[?25hdone\n",
            "Requirement already satisfied: py4j==0.10.9.7 in /usr/local/lib/python3.10/dist-packages (from pyspark) (0.10.9.7)\n",
            "Building wheels for collected packages: pyspark\n",
            "  Building wheel for pyspark (setup.py) ... \u001b[?25l\u001b[?25hdone\n",
            "  Created wheel for pyspark: filename=pyspark-3.5.2-py2.py3-none-any.whl size=317812365 sha256=61cfb2df5f785a599655efd56eb214a4a08afc04cd1e5690f5d3203f4e0cf3d7\n",
            "  Stored in directory: /root/.cache/pip/wheels/34/34/bd/03944534c44b677cd5859f248090daa9fb27b3c8f8e5f49574\n",
            "Successfully built pyspark\n",
            "Installing collected packages: pyspark\n",
            "Successfully installed pyspark-3.5.2\n"
          ]
        }
      ],
      "source": [
        "!pip install pyspark"
      ]
    },
    {
      "cell_type": "code",
      "source": [
        "from google.colab import drive\n",
        "drive.mount(\"/content/gdrive\")"
      ],
      "metadata": {
        "colab": {
          "base_uri": "https://localhost:8080/"
        },
        "id": "2y2o2YU3OhH_",
        "outputId": "f03b32de-1b70-43a6-96be-56194a94f7f5"
      },
      "execution_count": null,
      "outputs": [
        {
          "output_type": "stream",
          "name": "stdout",
          "text": [
            "Mounted at /content/gdrive\n"
          ]
        }
      ]
    },
    {
      "cell_type": "code",
      "source": [
        "from pyspark import SparkContext, SparkConf\n",
        "conf = SparkConf().setAppName(\"SparkDemo\").setMaster(\"local\")\n",
        "sc = SparkContext(conf=conf)"
      ],
      "metadata": {
        "id": "W2pIC_zSPIj1"
      },
      "execution_count": null,
      "outputs": []
    },
    {
      "cell_type": "code",
      "source": [
        "# Loading the Dataset\n",
        "input = \"/content/gdrive/My Drive/datasets/mr/employee.csv\"\n",
        "lineRDD = sc.textFile(input)\n",
        "empRDD = lineRDD.map(lambda line: line.split(\",\"))"
      ],
      "metadata": {
        "id": "0sdCdKA6PCjQ"
      },
      "execution_count": null,
      "outputs": []
    },
    {
      "cell_type": "code",
      "source": [
        "#Prints a List one element on a line!\n",
        "def printList(list_a):\n",
        "  for e in list_a:\n",
        "    print (e)"
      ],
      "metadata": {
        "id": "iZDc2wWbPS0x"
      },
      "execution_count": null,
      "outputs": []
    },
    {
      "cell_type": "code",
      "source": [
        "# #printList( empRDD.collect() )  # prints the full RDD\n",
        "# printList( empRDD.take(10) )    # print only 10"
      ],
      "metadata": {
        "id": "vgGELp0JPhOv"
      },
      "execution_count": null,
      "outputs": []
    },
    {
      "cell_type": "markdown",
      "source": [
        "Q1. Project and print (empno, name) of employees that are from state 'TX' from employee.csv\n"
      ],
      "metadata": {
        "id": "-eRz-6AJP7lr"
      }
    },
    {
      "cell_type": "code",
      "source": [
        "tx_employees = empRDD.filter(lambda emp: emp[4] == 'TX')\n",
        "tx_empno_name = tx_employees.map(lambda emp: (emp[0], emp[1]))\n",
        "printList(tx_empno_name.collect())"
      ],
      "metadata": {
        "id": "A13dasvNP9Fh",
        "colab": {
          "base_uri": "https://localhost:8080/"
        },
        "outputId": "bb52e824-9de2-4b43-a416-a3fb9eae52fa"
      },
      "execution_count": null,
      "outputs": [
        {
          "output_type": "stream",
          "name": "stdout",
          "text": [
            "('10012', 'Hector Barbossa')\n",
            "('10200', 'Anton Chigurh')\n",
            "('10202', 'Jac McKinzie')\n"
          ]
        }
      ]
    },
    {
      "cell_type": "markdown",
      "source": [
        "Q2. Generate List of (empno, name, salary, dep_avg_sal) of employees who have salary > 1.5 times of department average from employee.csv"
      ],
      "metadata": {
        "id": "7T3f9HJlR7Ua"
      }
    },
    {
      "cell_type": "code",
      "source": [
        "from statistics import mean\n",
        "deptSalaryRDD = empRDD.map(lambda x : (x[2], int(x[3])))\n",
        "deptSalaryMeanMap = deptSalaryRDD.groupByKey().mapValues(mean).collectAsMap()\n",
        "\n",
        "result = empRDD.filter(lambda x : int(x[3]) > 1.5*deptSalaryMeanMap[x[2]]).map(lambda x : (x[0], x[1], x[3], deptSalaryMeanMap[x[2]]))\n",
        "printList(result.collect())"
      ],
      "metadata": {
        "colab": {
          "base_uri": "https://localhost:8080/"
        },
        "id": "KgzjdOJHR24t",
        "outputId": "92567b22-417d-44c8-be8f-e03e1756d38a"
      },
      "execution_count": null,
      "outputs": [
        {
          "output_type": "stream",
          "name": "stdout",
          "text": [
            "('10019', 'Vito Corleone', '170500', 59967.78846153846)\n",
            "('10015', 'Jason Foss', '178000', 97064.64)\n",
            "('10272', 'Debra Houlihan', '180000', 68684.0625)\n",
            "('10288', 'Peter Monroe', '157000', 97064.64)\n",
            "('10086', 'Katie Roper', '150290', 97064.64)\n",
            "('10222', 'Ricardo Ruiz', '148999', 97064.64)\n",
            "('10010', 'Jennifer Zamora', '220450', 97064.64)\n"
          ]
        }
      ]
    },
    {
      "cell_type": "markdown",
      "source": [
        "Q3. Compute state wise count of employees from employee.csv\n"
      ],
      "metadata": {
        "id": "6LMBy7DFSaSc"
      }
    },
    {
      "cell_type": "code",
      "source": [
        "state_count = empRDD.map(lambda emp: (emp[4], 1)).reduceByKey(lambda a, b: a + b)\n",
        "printList(state_count.collect())"
      ],
      "metadata": {
        "colab": {
          "base_uri": "https://localhost:8080/"
        },
        "id": "wnS3cub4SCqf",
        "outputId": "23e95151-445f-4498-f7ac-d296994afcbf"
      },
      "execution_count": null,
      "outputs": [
        {
          "output_type": "stream",
          "name": "stdout",
          "text": [
            "('MA', 276)\n",
            "('TX', 3)\n",
            "('CT', 6)\n",
            "('VA', 1)\n",
            "('VT', 2)\n",
            "('AL', 1)\n",
            "('WA', 1)\n",
            "('CA', 1)\n",
            "('OH', 1)\n",
            "('IN', 1)\n",
            "('TN', 1)\n",
            "('NH', 1)\n",
            "('RI', 1)\n",
            "('PA', 1)\n",
            "('CO', 1)\n",
            "('NY', 1)\n",
            "('UT', 1)\n",
            "('GA', 1)\n",
            "('FL', 1)\n",
            "('NC', 1)\n",
            "('KY', 1)\n",
            "('ID', 1)\n",
            "('NV', 1)\n",
            "('MT', 1)\n",
            "('OR', 1)\n",
            "('ND', 1)\n",
            "('AZ', 1)\n",
            "('ME', 1)\n"
          ]
        }
      ]
    },
    {
      "cell_type": "markdown",
      "source": [
        "Q4. Compute the Standard Deviation of salary\n"
      ],
      "metadata": {
        "id": "2kgTaRljSqmS"
      }
    },
    {
      "cell_type": "code",
      "source": [
        "std_salary_rdd = empRDD.map(lambda emp: float(emp[3])).stdev()\n",
        "print(\"Standard Deviation of salary is:\", std_salary_rdd)"
      ],
      "metadata": {
        "colab": {
          "base_uri": "https://localhost:8080/"
        },
        "id": "pFE24R-dSkje",
        "outputId": "a6d264e5-0fdf-4ea8-f8cd-811f6e22bf6d"
      },
      "execution_count": null,
      "outputs": [
        {
          "output_type": "stream",
          "name": "stdout",
          "text": [
            "Standard Deviation of salary is: 25116.159611505253\n"
          ]
        }
      ]
    },
    {
      "cell_type": "markdown",
      "source": [
        "Q5. Compute Department wise Standard Deviation of Salary"
      ],
      "metadata": {
        "id": "u7GzxG-aTIM5"
      }
    },
    {
      "cell_type": "code",
      "source": [
        "from statistics import pstdev     #population standard deviation of a given dataset.\n",
        "dnoSalaryRDD = empRDD.map(lambda emp : (emp[2], int(emp[3])))\n",
        "result = dnoSalaryRDD.groupByKey().mapValues(pstdev)    #it derectly computes the sd of the iterable list of salaries after group by is performed\n",
        "printList(result.collect())"
      ],
      "metadata": {
        "colab": {
          "base_uri": "https://localhost:8080/"
        },
        "id": "VDguGW8nTFcr",
        "outputId": "ef3565d4-8b48-4f18-a1e6-d9bf43b87fd2"
      },
      "execution_count": null,
      "outputs": [
        {
          "output_type": "stream",
          "name": "stdout",
          "text": [
            "('5', 11420.80077994759)\n",
            "('3', 32875.83877242374)\n",
            "('4', 8754.93245490792)\n",
            "('1', 19722.68484258672)\n",
            "('6', 20702.734864531638)\n",
            "('2', 0.0)\n"
          ]
        }
      ]
    },
    {
      "cell_type": "markdown",
      "source": [
        "Q6. List (empno, dno, name, salary, dept_sal_sd) for employee that are having salary > 1.5 times of SD."
      ],
      "metadata": {
        "id": "t45VLsmrT05n"
      }
    },
    {
      "cell_type": "code",
      "source": [
        "from statistics import pstdev\n",
        "dnoSalaryRDD = empRDD.map(lambda emp : (emp[2], int(emp[3])))\n",
        "deptSalarySDMap = dnoSalaryRDD.groupByKey().mapValues(pstdev).collectAsMap()\n",
        "salaryRDD = empRDD.map(lambda emp : int(emp[3]))\n",
        "filteredEmpRDD = empRDD.filter(lambda emp : int(emp[3]) > 1.5*deptSalarySDMap[emp[2]])\n",
        "result = filteredEmpRDD.map(lambda emp : (emp[0], emp[2], emp[1], int(emp[3]), deptSalarySDMap[emp[2]]))\n",
        "printList(result.collect())"
      ],
      "metadata": {
        "colab": {
          "base_uri": "https://localhost:8080/"
        },
        "id": "d22Aq00FT1a1",
        "outputId": "60e8ebe7-e511-4b09-dd99-8c49720837de"
      },
      "execution_count": null,
      "outputs": [
        {
          "output_type": "stream",
          "name": "stdout",
          "text": [
            "('10026', '5', 'Wilson K Adinolfi', 62506, 11420.80077994759)\n",
            "('10084', '3', 'Karthikeyan Ait Sidi', 104437, 32875.83877242374)\n",
            "('10196', '5', 'Sarah Akinkuolie', 64955, 11420.80077994759)\n",
            "('10088', '5', 'Trina Alagbe', 64991, 11420.80077994759)\n",
            "('10069', '5', 'Carol Anderson', 50825, 11420.80077994759)\n",
            "('10002', '5', 'Linda Anderson', 57568, 11420.80077994759)\n",
            "('10194', '4', 'Colby Andreola', 95660, 8754.93245490792)\n",
            "('10062', '5', 'Sam Athwal', 59365, 11420.80077994759)\n",
            "('10114', '5', 'Linda Bachiochi', 47837, 11420.80077994759)\n",
            "('10250', '3', 'Alejandro Bacong', 50178, 32875.83877242374)\n",
            "('10252', '5', 'Rachael Baczenski', 54670, 11420.80077994759)\n",
            "('10242', '5', 'Thomas Barbara', 47211, 11420.80077994759)\n",
            "('10012', '3', 'Hector Barbossa', 92328, 32875.83877242374)\n",
            "('10265', '5', 'Francesco A Barone', 58709, 11420.80077994759)\n",
            "('10066', '5', 'Nader Barton', 52505, 11420.80077994759)\n",
            "('10061', '5', 'Norman Bates', 57834, 11420.80077994759)\n",
            "('10023', '5', 'Kimberly Beak', 70131, 11420.80077994759)\n",
            "('10055', '5', 'Courtney Beatrice', 59026, 11420.80077994759)\n",
            "('10245', '3', 'Renee Becker', 110000, 32875.83877242374)\n",
            "('10277', '5', 'Scott Becker', 53250, 11420.80077994759)\n",
            "('10046', '5', 'Sean Bernstein', 51044, 11420.80077994759)\n",
            "('10226', '5', 'Lowan M Biden', 64919, 11420.80077994759)\n",
            "('10003', '5', 'Helen Billis', 62910, 11420.80077994759)\n",
            "('10294', '5', 'Dianna Blount', 66441, 11420.80077994759)\n",
            "('10267', '5', 'Betsy Bondwell', 57815, 11420.80077994759)\n",
            "('10199', '3', 'Frank Booth', 103613, 32875.83877242374)\n",
            "('10081', '1', 'Bonalyn Boutwell', 106367, 19722.68484258672)\n",
            "('10175', '5', 'Charles Bozzi', 74312, 11420.80077994759)\n",
            "('10177', '5', 'Donna Brill', 53492, 11420.80077994759)\n",
            "('10238', '1', 'Mia Brown', 63000, 19722.68484258672)\n",
            "('10184', '5', 'Joseph Buccheri', 65288, 11420.80077994759)\n",
            "('10203', '5', 'Josephine Bugali', 64375, 11420.80077994759)\n",
            "('10188', '6', 'Jessica Bunbury', 74326, 20702.734864531638)\n",
            "('10107', '5', 'Joelle Burke', 63763, 11420.80077994759)\n",
            "('10181', '5', 'Benjamin Burkett', 62162, 11420.80077994759)\n",
            "('10150', '4', 'Max Cady', 77692, 8754.93245490792)\n",
            "('10001', '5', 'Calvin Candie', 72640, 11420.80077994759)\n",
            "('10085', '4', 'Judith Carabbio', 93396, 8754.93245490792)\n",
            "('10115', '5', 'Michael Carey', 52846, 11420.80077994759)\n",
            "('10082', '3', 'Claudia N Carr', 100031, 32875.83877242374)\n",
            "('10040', '6', 'Michelle Carter', 71860, 20702.734864531638)\n",
            "('10067', '5', 'Beatrice Chace', 61656, 11420.80077994759)\n",
            "('10108', '3', 'Brian Champaigne', 110929, 32875.83877242374)\n",
            "('10210', '5', 'Lin Chan', 54237, 11420.80077994759)\n",
            "('10154', '5', 'Donovan E Chang', 60380, 11420.80077994759)\n",
            "('10200', '6', 'Anton Chigurh', 66808, 20702.734864531638)\n",
            "('10240', '5', 'Enola Chivukula', 64786, 11420.80077994759)\n",
            "('10168', '5', 'Caroline Cierpiszewski', 64816, 11420.80077994759)\n",
            "('10220', '3', 'Rick Clayton', 68678, 32875.83877242374)\n",
            "('10275', '5', 'Jennifer Cloninger', 64066, 11420.80077994759)\n",
            "('10269', '5', 'Phil Close', 59369, 11420.80077994759)\n",
            "('10029', '5', 'Elijian Clukey', 50373, 11420.80077994759)\n",
            "('10261', '5', 'James Cockel', 63108, 11420.80077994759)\n",
            "('10292', '5', 'Spencer Cole', 59144, 11420.80077994759)\n",
            "('10282', '5', 'Michael Corleone', 68051, 11420.80077994759)\n",
            "('10019', '5', 'Vito Corleone', 170500, 11420.80077994759)\n",
            "('10094', '5', 'Lisa Cornett', 63381, 11420.80077994759)\n",
            "('10193', '3', 'Frank Costello', 83552, 32875.83877242374)\n",
            "('10132', '5', 'Jean Crimmings', 56149, 11420.80077994759)\n",
            "('10083', '3', 'Noah Cross', 92329, 32875.83877242374)\n",
            "('10099', '6', 'Lynn Daneault', 65729, 20702.734864531638)\n",
            "('10212', '3', 'Ann Daniele', 85028, 32875.83877242374)\n",
            "('10056', '5', \"Jene'ya Darson\", 57583, 11420.80077994759)\n",
            "('10143', '5', 'Daniel Davis', 56294, 11420.80077994759)\n",
            "('10311', '6', 'Randy Dee', 56991, 20702.734864531638)\n",
            "('10070', '5', 'James DeGweck', 55722, 11420.80077994759)\n",
            "('10155', '4', 'Keyla Del Bosque', 101199, 8754.93245490792)\n",
            "('10306', '6', 'Alex Delarge', 61568, 20702.734864531638)\n",
            "('10100', '5', 'Carla Demita', 58275, 11420.80077994759)\n",
            "('10310', '5', 'Carl Desimone', 53189, 11420.80077994759)\n",
            "('10197', '3', 'Tommy DeVito', 96820, 32875.83877242374)\n",
            "('10276', '5', 'Geoff Dickinson', 51259, 11420.80077994759)\n",
            "('10304', '6', 'Jenna Dietrich', 59231, 20702.734864531638)\n",
            "('10284', '5', 'Lily DiNocco', 61584, 11420.80077994759)\n",
            "('10207', '5', 'Denisa S Dobrin', 46335, 11420.80077994759)\n",
            "('10133', '3', 'Linda Dolan', 70621, 32875.83877242374)\n",
            "('10028', '3', 'Eric Dougall', 138888, 32875.83877242374)\n",
            "('10006', '6', 'Elle Driver', 74241, 20702.734864531638)\n",
            "('10105', '5', 'Amy Dunn', 75188, 11420.80077994759)\n",
            "('10211', '5', 'Amy Dunne', 62514, 11420.80077994759)\n",
            "('10064', '5', 'Marianne Eaton', 60070, 11420.80077994759)\n",
            "('10247', '5', 'Jean Engdahl', 48888, 11420.80077994759)\n",
            "('10235', '5', 'Rex England', 54285, 11420.80077994759)\n",
            "('10299', '5', 'Angela Erilus', 56847, 11420.80077994759)\n",
            "('10280', '5', 'Miguel Estremera', 60340, 11420.80077994759)\n",
            "('10296', '5', 'April Evensen', 59124, 11420.80077994759)\n",
            "('10290', '4', 'Susan Exantus', 99280, 8754.93245490792)\n",
            "('10263', '5', 'Megan Faller', 71776, 11420.80077994759)\n",
            "('10136', '5', 'Nicole Fancett', 65902, 11420.80077994759)\n",
            "('10189', '5', 'Susan Ferguson', 57748, 11420.80077994759)\n",
            "('10308', '5', 'Nilson Fernandes', 64057, 11420.80077994759)\n",
            "('10309', '3', 'Boba Fett', 53366, 32875.83877242374)\n",
            "('10049', '5', 'Libby Fidelia', 58530, 11420.80077994759)\n",
            "('10093', '5', 'Michael J Fitzpatrick', 72609, 11420.80077994759)\n",
            "('10163', '5', 'Tanya Foreman', 55965, 11420.80077994759)\n",
            "('10305', '6', 'Alex Forrest', 70187, 20702.734864531638)\n",
            "('10015', '3', 'Jason Foss', 178000, 32875.83877242374)\n",
            "('10080', '1', 'Amy Foster-Baker', 99351, 19722.68484258672)\n",
            "('10258', '6', 'Maruk Fraval', 67251, 20702.734864531638)\n",
            "('10273', '3', 'Lisa Galia', 65707, 32875.83877242374)\n",
            "('10111', '5', 'Raul Garcia', 52249, 11420.80077994759)\n",
            "('10257', '5', 'Barbara Gaul', 53171, 11420.80077994759)\n",
            "('10159', '5', 'Mildred Gentry', 51337, 11420.80077994759)\n",
            "('10122', '5', 'Melisa Gerke', 51505, 11420.80077994759)\n",
            "('10142', '6', 'Whitney Gill', 59370, 20702.734864531638)\n",
            "('10283', '5', 'Alex Gilles', 54933, 11420.80077994759)\n",
            "('10018', '5', 'Evelyn Girifalco', 57815, 11420.80077994759)\n",
            "('10255', '6', 'Myriam Givens', 61555, 20702.734864531638)\n",
            "('10246', '3', 'Taisha Goble', 114800, 32875.83877242374)\n",
            "('10228', '3', 'Amon Goeth', 74679, 32875.83877242374)\n",
            "('10243', '5', 'Shenice Gold', 53018, 11420.80077994759)\n",
            "('10031', '5', 'Cayo Gonzalez', 59892, 11420.80077994759)\n",
            "('10300', '5', 'Juan Gonzalez', 68898, 11420.80077994759)\n",
            "('10101', '3', 'Maria Gonzalez', 61242, 32875.83877242374)\n",
            "('10237', '5', 'Susan Good', 66825, 11420.80077994759)\n",
            "('10051', '5', 'David Gordon', 48285, 11420.80077994759)\n",
            "('10218', '5', 'Phylicia Gosciminski', 66149, 11420.80077994759)\n",
            "('10256', '5', 'Roxana Goyal', 49256, 11420.80077994759)\n",
            "('10098', '5', 'Elijiah Gray', 62957, 11420.80077994759)\n",
            "('10059', '5', 'Paula Gross', 63813, 11420.80077994759)\n",
            "('10234', '3', 'Hans Gruber', 99020, 32875.83877242374)\n",
            "('10109', '6', 'Mike Guilianno', 71707, 20702.734864531638)\n",
            "('10125', '5', 'Joanne Handschiegl', 54828, 11420.80077994759)\n",
            "('10074', '5', 'Earnest Hankard', 64246, 11420.80077994759)\n",
            "('10097', '5', 'Christie Harrington', 52177, 11420.80077994759)\n",
            "('10007', '5', 'Kara Harrison', 62065, 11420.80077994759)\n",
            "('10129', '5', 'Anthony Heitzman', 46998, 11420.80077994759)\n",
            "('10075', '5', 'Trina Hendrickson', 68099, 11420.80077994759)\n",
            "('10167', '6', 'Alfred Hitchcock', 70545, 20702.734864531638)\n",
            "('10195', '5', 'Adrienne J Homberger', 63478, 11420.80077994759)\n",
            "('10112', '3', 'Jayne Horton', 97999, 32875.83877242374)\n",
            "('10272', '6', 'Debra Houlihan', 180000, 20702.734864531638)\n",
            "('10182', '1', 'Estelle Howard', 49920, 19722.68484258672)\n",
            "('10248', '5', 'Jane Hudson', 55425, 11420.80077994759)\n",
            "('10201', '5', 'Julissa Hunts', 69340, 11420.80077994759)\n",
            "('10214', '5', 'Rosalie Hutter', 64995, 11420.80077994759)\n",
            "('10160', '5', 'Ming Huynh', 68182, 11420.80077994759)\n",
            "('10289', '5', 'Walter Immediato', 83082, 11420.80077994759)\n",
            "('10139', '5', 'Rose Ivey', 51908, 11420.80077994759)\n",
            "('10227', '5', 'Maryellen Jackson', 61242, 11420.80077994759)\n",
            "('10236', '5', 'Hannah Jacobi', 45069, 11420.80077994759)\n",
            "('10009', '5', 'Tayana Jeannite', 60724, 11420.80077994759)\n",
            "('10060', '5', 'Sneha Jhaveri', 60436, 11420.80077994759)\n",
            "('10034', '5', 'George Johnson', 46837, 11420.80077994759)\n",
            "('10156', '3', 'Noelle Johnson', 105700, 32875.83877242374)\n",
            "('10036', '5', 'Yen Johnston', 63322, 11420.80077994759)\n",
            "('10138', '5', 'Judy Jung', 61154, 11420.80077994759)\n",
            "('10244', '6', 'Donysha Kampew', 68999, 20702.734864531638)\n",
            "('10192', '5', 'Kramer Keatts', 50482, 11420.80077994759)\n",
            "('10231', '6', 'Bartholemew Khemmich', 65310, 20702.734864531638)\n",
            "('10089', '2', 'Janet King', 250000, 0.0)\n",
            "('10166', '5', 'Kathleen Kinsella', 54005, 11420.80077994759)\n",
            "('10170', '5', 'Alexandra Kirill', 45433, 11420.80077994759)\n",
            "('10208', '5', 'Bradley J Knapp', 46654, 11420.80077994759)\n",
            "('10176', '5', 'John Kretschmer', 63973, 11420.80077994759)\n",
            "('10165', '6', 'Freddy Kreuger', 71339, 20702.734864531638)\n",
            "('10113', '3', 'Jyoti Lajiri', 93206, 32875.83877242374)\n",
            "('10092', '5', 'Hans Landa', 82758, 11420.80077994759)\n",
            "('10106', '5', 'Lindsey Langford', 66074, 11420.80077994759)\n",
            "('10052', '5', 'Enrico Langton', 46120, 11420.80077994759)\n",
            "('10038', '1', 'William LaRotonda', 64520, 19722.68484258672)\n",
            "('10249', '5', 'Mohammed Latif', 61962, 11420.80077994759)\n",
            "('10232', '3', 'Binh Le', 81584, 32875.83877242374)\n",
            "('10087', '5', 'Dallas Leach', 63676, 11420.80077994759)\n",
            "('10134', '1', 'Brandon R LeBlanc', 93046, 19722.68484258672)\n",
            "('10251', '5', 'Hannibal Lecter', 64738, 11420.80077994759)\n",
            "('10103', '6', 'Giovanni Leruth', 70468, 20702.734864531638)\n",
            "('10017', '5', 'Ketsia Liebig', 77915, 11420.80077994759)\n",
            "('10186', '5', 'Marilyn Linares', 52624, 11420.80077994759)\n",
            "('10137', '5', 'Mathew Linden', 63450, 11420.80077994759)\n",
            "('10008', '3', 'Leonara Lindsay', 51777, 32875.83877242374)\n",
            "('10096', '5', 'Susan Lundy', 67237, 11420.80077994759)\n",
            "('10035', '5', 'Lisa Lunquist', 73330, 11420.80077994759)\n",
            "('10057', '5', 'Allison Lydon', 52057, 11420.80077994759)\n",
            "('10004', '5', 'Lindsay Lynch', 47434, 11420.80077994759)\n",
            "('10191', '5', 'Samuel MacLennan', 52788, 11420.80077994759)\n",
            "('10219', '5', 'Lauren Mahoney', 45395, 11420.80077994759)\n",
            "('10077', '5', 'Robyn Manchester', 62385, 11420.80077994759)\n",
            "('10073', '5', 'Karen Mancuso', 68407, 11420.80077994759)\n",
            "('10279', '5', 'Debbie Mangal', 61349, 11420.80077994759)\n",
            "('10110', '4', 'Sandra Martin', 105688, 8754.93245490792)\n",
            "('10053', '5', 'Shana Maurice', 54132, 11420.80077994759)\n",
            "('10076', '5', \"B'rigit Carthy\", 55315, 11420.80077994759)\n",
            "('10145', '5', 'Sandy Mckenna', 62810, 11420.80077994759)\n",
            "('10202', '6', 'Jac McKinzie', 63291, 20702.734864531638)\n",
            "('10128', '5', 'Elizabeth Meads', 62659, 11420.80077994759)\n",
            "('10068', '5', 'Jennifer Medeiros', 55688, 11420.80077994759)\n",
            "('10116', '5', 'Brannon Miller', 83667, 11420.80077994759)\n",
            "('10298', '5', 'Ned Miller', 55800, 11420.80077994759)\n",
            "('10213', '5', 'Erasumus Monkfish', 58207, 11420.80077994759)\n",
            "('10288', '3', 'Peter Monroe', 157000, 32875.83877242374)\n",
            "('10025', '5', 'Luisa Monterro', 72460, 11420.80077994759)\n",
            "('10223', '5', 'Patrick Moran', 72106, 11420.80077994759)\n",
            "('10151', '3', 'Tanya Morway', 52599, 32875.83877242374)\n",
            "('10254', '5', 'Dawn Motlagh', 63430, 11420.80077994759)\n",
            "('10120', '5', 'Maliki Moumanil', 74417, 11420.80077994759)\n",
            "('10216', '5', 'Michael Myers', 57575, 11420.80077994759)\n",
            "('10079', '3', 'Kurt Navathe', 87921, 32875.83877242374)\n",
            "('10215', '5', 'Colombui Ndzi', 50470, 11420.80077994759)\n",
            "('10185', '5', 'Horia Ndzi', 46664, 11420.80077994759)\n",
            "('10063', '5', 'Richard Newman', 48495, 11420.80077994759)\n",
            "('10037', '5', 'Shari Ngodup', 52984, 11420.80077994759)\n",
            "('10042', '6', 'Dheepa Nguyen', 63695, 20702.734864531638)\n",
            "('10206', '5', 'Lei-Ming Nguyen', 62061, 11420.80077994759)\n",
            "('10104', '5', 'Kristie Nowlan', 66738, 11420.80077994759)\n",
            "('10303', '5', \"Lynn O'hare\", 52674, 11420.80077994759)\n",
            "('10078', '5', 'Brooke Oliver', 71966, 11420.80077994759)\n",
            "('10121', '6', 'Jasmine Onque', 63051, 20702.734864531638)\n",
            "('10021', '5', 'Adeel Osturnka', 47414, 11420.80077994759)\n",
            "('10281', '5', 'Clinton Owad', 53060, 11420.80077994759)\n",
            "('10041', '6', 'Travis Ozark', 68829, 20702.734864531638)\n",
            "('10148', '5', 'Nina Panjwani', 63515, 11420.80077994759)\n",
            "('10005', '4', 'Lucas Patronick', 108987, 8754.93245490792)\n",
            "('10259', '3', 'Randall Pearson', 93093, 32875.83877242374)\n",
            "('10286', '5', 'Martin Smith', 53564, 11420.80077994759)\n",
            "('10297', '5', 'Ermine Pelletier', 60270, 11420.80077994759)\n",
            "('10171', '5', 'Shakira Perry', 45998, 11420.80077994759)\n",
            "('10032', '5', 'Lauren Peters', 57954, 11420.80077994759)\n",
            "('10130', '5', 'Ebonee Peterson', 74669, 11420.80077994759)\n",
            "('10217', '5', 'Shana Petingill', 74226, 11420.80077994759)\n",
            "('10016', '3', 'Thelma Petrowsky', 93554, 32875.83877242374)\n",
            "('10050', '5', 'Hong Pham', 64724, 11420.80077994759)\n",
            "('10164', '5', 'Brad Pitt', 47001, 11420.80077994759)\n",
            "('10124', '6', 'Xana Potts', 61844, 20702.734864531638)\n",
            "('10187', '5', 'Morissa Power', 46799, 11420.80077994759)\n",
            "('10225', '5', 'Louis Punjabhi', 59472, 11420.80077994759)\n",
            "('10262', '5', 'Janine Purinton', 46430, 11420.80077994759)\n",
            "('10131', '1', 'Sean Quinn', 83363, 19722.68484258672)\n",
            "('10239', '3', 'Maggie Rachael', 95920, 32875.83877242374)\n",
            "('10152', '5', 'Quinn Rarrick', 61729, 11420.80077994759)\n",
            "('10140', '6', 'Kylo Ren', 61809, 20702.734864531638)\n",
            "('10058', '5', 'Thomas Rhoads', 45115, 11420.80077994759)\n",
            "('10011', '5', 'Haley Rivera', 46738, 11420.80077994759)\n",
            "('10230', '5', 'May Roberson', 64971, 11420.80077994759)\n",
            "('10224', '5', 'Peter Robertson', 55578, 11420.80077994759)\n",
            "('10047', '5', 'Alain Robinson', 50428, 11420.80077994759)\n",
            "('10285', '5', 'Cherly Robinson', 61422, 11420.80077994759)\n",
            "('10020', '5', 'Elias Robinson', 63353, 11420.80077994759)\n",
            "('10162', '3', 'Lori Roby', 89883, 32875.83877242374)\n",
            "('10149', '3', 'Bianca Roehrich', 120000, 32875.83877242374)\n",
            "('10086', '3', 'Katie Roper', 150290, 32875.83877242374)\n",
            "('10054', '5', 'Ashley Rose', 60627, 11420.80077994759)\n",
            "('10065', '5', 'Bruno Rossetti', 53180, 11420.80077994759)\n",
            "('10198', '3', 'Simon Roup', 140920, 32875.83877242374)\n",
            "('10222', '3', 'Ricardo Ruiz', 148999, 32875.83877242374)\n",
            "('10126', '4', 'Adell Saada', 86214, 8754.93245490792)\n",
            "('10295', '5', 'Melinda Saar-Beckles', 47750, 11420.80077994759)\n",
            "('10260', '5', 'Nore Sadki', 46428, 11420.80077994759)\n",
            "('10233', '5', 'Adil Sahoo', 57975, 11420.80077994759)\n",
            "('10229', '3', 'Jason Salter', 88527, 32875.83877242374)\n",
            "('10169', '5', 'Kamrin Sander', 56147, 11420.80077994759)\n",
            "('10071', '5', 'Nori Sewkumar', 50923, 11420.80077994759)\n",
            "('10179', '3', 'Anita Shepard', 50750, 32875.83877242374)\n",
            "('10091', '5', 'Seffi Shields', 52087, 11420.80077994759)\n",
            "('10178', '3', 'Kramer Simard', 87826, 32875.83877242374)\n",
            "('10039', '1', 'Nan Singh', 51920, 19722.68484258672)\n",
            "('10095', '5', 'Constance Sloan', 63878, 11420.80077994759)\n",
            "('10027', '5', 'Joe Smith', 60656, 11420.80077994759)\n",
            "('10291', '6', 'John Smith', 72992, 20702.734864531638)\n",
            "('10153', '1', 'Leigh Ann Smith', 55000, 19722.68484258672)\n",
            "('10157', '5', 'Sade Smith', 58939, 11420.80077994759)\n",
            "('10119', '3', 'Julia Soto', 66593, 32875.83877242374)\n",
            "('10180', '3', 'Keyser Soze', 87565, 32875.83877242374)\n",
            "('10302', '5', 'Taylor Sparks', 64021, 11420.80077994759)\n",
            "('10090', '5', 'Kelley Spirea', 65714, 11420.80077994759)\n",
            "('10030', '5', 'Kristen Squatrito', 62425, 11420.80077994759)\n",
            "('10278', '5', 'Barbara M Stanford', 47961, 11420.80077994759)\n",
            "('10307', '6', 'Norman Stansfield', 58273, 20702.734864531638)\n",
            "('10147', '1', 'Tyrone Steans', 63003, 19722.68484258672)\n",
            "('10266', '5', 'Rick Stoica', 61355, 11420.80077994759)\n",
            "('10241', '6', 'Caitrin Strong', 60120, 20702.734864531638)\n",
            "('10158', '5', 'Kissy Sullivan', 63682, 11420.80077994759)\n",
            "('10117', '5', 'Timothy Sullivan', 63025, 11420.80077994759)\n",
            "('10209', '5', 'Barbara Sutwell', 59238, 11420.80077994759)\n",
            "('10024', '4', 'Andrew Szabo', 92989, 8754.93245490792)\n",
            "('10173', '3', 'Biff Tannen', 90100, 32875.83877242374)\n",
            "('10221', '5', 'Desiree Tavares', 60754, 11420.80077994759)\n",
            "('10146', '5', 'Lenora Tejeda', 72202, 11420.80077994759)\n",
            "('10161', '6', 'Sharlene Terry', 58370, 20702.734864531638)\n",
            "('10141', '5', 'Sophia Theamstern', 48413, 11420.80077994759)\n",
            "('10268', '5', 'Kenneth Thibaud', 67176, 11420.80077994759)\n",
            "('10123', '5', 'Jeanette Tippett', 56339, 11420.80077994759)\n",
            "('10013', '6', 'Jack Torrence', 64397, 20702.734864531638)\n",
            "('10287', '5', 'Mei Trang', 63025, 11420.80077994759)\n",
            "('10044', '3', 'Neville Tredinnick', 75281, 32875.83877242374)\n",
            "('10102', '4', 'Edward TRUE', 100416, 8754.93245490792)\n",
            "('10270', '5', 'Cybil Trzeciak', 74813, 11420.80077994759)\n",
            "('10045', '3', 'Jumil Turpin', 76029, 32875.83877242374)\n",
            "('10205', '6', 'Jackie Valentin', 57859, 20702.734864531638)\n",
            "('10014', '5', 'Abdellah Veera', 58523, 11420.80077994759)\n",
            "('10144', '5', 'Vincent Vega', 88976, 11420.80077994759)\n",
            "('10253', '6', 'Noah Villanueva', 55875, 20702.734864531638)\n",
            "('10118', '3', 'Lord Voldemort', 113999, 32875.83877242374)\n",
            "('10022', '5', 'Colleen Volk', 49773, 11420.80077994759)\n",
            "('10183', '5', 'Anna Von Massenbach', 62068, 11420.80077994759)\n",
            "('10190', '5', 'Roger Walker', 66541, 11420.80077994759)\n",
            "('10274', '5', 'Courtney E Wallace', 80512, 11420.80077994759)\n",
            "('10293', '5', 'Theresa Wallace', 50274, 11420.80077994759)\n",
            "('10172', '3', 'Charlie Wang', 84903, 32875.83877242374)\n",
            "('10127', '3', 'Sarah Warfield', 107226, 32875.83877242374)\n",
            "('10072', '5', 'Scott Whittier', 58371, 11420.80077994759)\n",
            "('10048', '5', 'Barry Wilber', 55140, 11420.80077994759)\n",
            "('10204', '5', 'Annie Wilkes', 58062, 11420.80077994759)\n",
            "('10264', '5', 'Jacquelyn Williams', 59728, 11420.80077994759)\n",
            "('10033', '5', 'Jordan Winthrop', 70507, 11420.80077994759)\n",
            "('10174', '5', 'Hang T Wolk', 60446, 11420.80077994759)\n",
            "('10135', '5', 'Jason Woodson', 65893, 11420.80077994759)\n",
            "('10301', '5', 'Catherine Ybarra', 48513, 11420.80077994759)\n",
            "('10010', '3', 'Jennifer Zamora', 220450, 32875.83877242374)\n",
            "('10043', '3', 'Julia Zhou', 89292, 32875.83877242374)\n",
            "('10271', '5', 'Colleen Zima', 45046, 11420.80077994759)\n"
          ]
        }
      ]
    },
    {
      "cell_type": "markdown",
      "source": [
        "Q7. Compute how much offset each department's average salary from the overall average.\n"
      ],
      "metadata": {
        "id": "bnN6zkR3Unir"
      }
    },
    {
      "cell_type": "code",
      "source": [
        "# This is for the overall average\n",
        "salary_rdd = empRDD.map(lambda emp: float(emp[3]))\n",
        "avg_salary = salary_rdd.mean()\n",
        "\n",
        "#This is for the Department average\n",
        "dept_avg_salary = empRDD.map(lambda emp: (emp[2], float(emp[3]))).groupByKey().mapValues(lambda vals: sum(vals)/len(vals))\n",
        "dept_offset = dept_avg_salary.map(lambda dept: (dept[0], dept[1] - avg_salary))\n",
        "printList(dept_offset.collect())"
      ],
      "metadata": {
        "colab": {
          "base_uri": "https://localhost:8080/"
        },
        "id": "5oef_qU_UjIR",
        "outputId": "70770292-0dbf-4dd4-efd3-63297f992a44"
      },
      "execution_count": null,
      "outputs": [
        {
          "output_type": "stream",
          "name": "stdout",
          "text": [
            "('5', -9052.896425921419)\n",
            "('3', 28043.95511254012)\n",
            "('4', 27131.415112540126)\n",
            "('1', 3928.31511254012)\n",
            "('6', -336.62238745988)\n",
            "('2', 180979.31511254012)\n"
          ]
        }
      ]
    },
    {
      "cell_type": "markdown",
      "source": [
        "Q8. Computes monthly summary on web access log of Lab01, and compute:\n",
        "\n",
        "(a) Total number of requests.\n",
        "\n",
        "(b) Total download size (in Mega Bytes).\n",
        "\n",
        "It should output: <Year-Month, Number of Requests, Download Size> for every month like Dec-2016, Jan-2017, and so!"
      ],
      "metadata": {
        "id": "-wipAu2HVHKp"
      }
    },
    {
      "cell_type": "code",
      "source": [
        "web_log_path = \"/content/gdrive/My Drive/datasets/mr/web_access_log.txt\"\n",
        "web_log_rdd = sc.textFile(web_log_path)\n",
        "\n",
        "filtered_web_rdd = web_log_rdd.filter(lambda x: x.split()[5][1:] == \"GET\" and x.split()[9] != \"-\" and x.split()[8] != \"304\")\n",
        "\n",
        "monthly_log_web_rdd = filtered_web_rdd.map(lambda x: (x.split()[3][4:7] + \"-\" + x.split()[3][8:12], int(x.split()[9])))\n",
        "\n",
        "converting = 1 / 10**6\n",
        "\n",
        "result = monthly_log_web_rdd.aggregateByKey(\n",
        "    zeroValue=(0, 0),\n",
        "    seqFunc=(lambda x, y: (x[0] + 1, x[1] + y * converting)),\n",
        "    combFunc=(lambda x, y: (x[0] + y[0], x[1] + y[1]))\n",
        ")\n",
        "\n",
        "printList(result.collect())"
      ],
      "metadata": {
        "colab": {
          "base_uri": "https://localhost:8080/"
        },
        "id": "OALNK5ILVPHQ",
        "outputId": "1169fe59-4b45-4d34-9e7a-8f975535e0d7"
      },
      "execution_count": null,
      "outputs": [
        {
          "output_type": "stream",
          "name": "stdout",
          "text": [
            "('Dec-2015', (9694, 269.2144590000028))\n",
            "('Jan-2016', (27291, 1837.5263319999972))\n",
            "('Feb-2016', (36063, 1287.2130360010342))\n"
          ]
        }
      ]
    },
    {
      "cell_type": "markdown",
      "source": [
        "Q9. Find the most popular browser (made most requests) from the “web access log” file of lab01."
      ],
      "metadata": {
        "id": "K3hzWn2HW5-l"
      }
    },
    {
      "cell_type": "code",
      "source": [
        "# Function to extract browser from the log line\n",
        "def extract_browser(line):\n",
        "    parts = line.split('\"')\n",
        "    if len(parts) > 5:\n",
        "        user_agent = parts[5]\n",
        "        if \"Firefox\" in user_agent:\n",
        "            return \"Firefox\"\n",
        "        elif \"Chrome\" in user_agent:\n",
        "            return \"Chrome\"\n",
        "        elif \"Safari\" in user_agent and \"Chrome\" not in user_agent:\n",
        "            return \"Safari\"\n",
        "        elif \"MSIE\" in user_agent or \"Trident\" in user_agent:\n",
        "            return \"Internet Explorer\"\n",
        "        elif \"Edge\" in user_agent:\n",
        "            return \"Edge\"\n",
        "        elif \"Opera\" in user_agent or \"OPR\" in user_agent:\n",
        "            return \"Opera\"\n",
        "        else:\n",
        "            return \"Other\"\n",
        "    return \"Unknown\"\n",
        "\n",
        "# Map each line to (browser, 1) and reduce by key to count\n",
        "browser_counts = web_log_rdd.map(extract_browser).map(lambda browser: (browser, 1)).reduceByKey(lambda a, b: a + b)\n",
        "\n",
        "# Find the browser with the maximum count\n",
        "most_popular_browser = browser_counts.reduce(lambda a, b: a if a[1] > b[1] else b)\n",
        "\n",
        "print(f\"The most popular browser is {most_popular_browser[0]} with {most_popular_browser[1]} requests.\")"
      ],
      "metadata": {
        "colab": {
          "base_uri": "https://localhost:8080/"
        },
        "id": "1wCR9C9TXBOZ",
        "outputId": "5a1f9c8a-fba3-4e2b-d07e-aed50348e55d"
      },
      "execution_count": null,
      "outputs": [
        {
          "output_type": "stream",
          "name": "stdout",
          "text": [
            "The most popular browser is Chrome with 61183 requests.\n"
          ]
        }
      ]
    }
  ]
}